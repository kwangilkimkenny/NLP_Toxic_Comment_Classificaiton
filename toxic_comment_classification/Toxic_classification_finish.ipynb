{
 "cells": [
  {
   "cell_type": "markdown",
   "metadata": {},
   "source": [
    "## Import packages"
   ]
  },
  {
   "cell_type": "code",
   "execution_count": 1,
   "metadata": {},
   "outputs": [],
   "source": [
    "%matplotlib inline\n",
    "import sys, os, re, csv, math, codecs, numpy as np, pandas as pd\n",
    "\n",
    "from keras.preprocessing.text import Tokenizer\n",
    "from keras.preprocessing.sequence import pad_sequences\n",
    "from keras.layers.normalization import BatchNormalization\n",
    "from keras.layers.advanced_activations import ELU\n",
    "from keras.layers import Dense, Input, LSTM, Embedding, Dropout, Activation, SpatialDropout1D\n",
    "from keras.layers import MaxPool1D, Flatten, Conv1D, GRU, GlobalAveragePooling1D, GlobalMaxPooling1D\n",
    "from keras.callbacks import ReduceLROnPlateau, ModelCheckpoint, EarlyStopping\n",
    "from keras.layers import concatenate\n",
    "from keras.layers import Bidirectional, GlobalMaxPool1D\n",
    "from keras.models import Model\n",
    "from keras.optimizers import Adam\n",
    "from keras import initializers, regularizers, constraints, optimizers, layers"
   ]
  },
  {
   "cell_type": "markdown",
   "metadata": {},
   "source": [
    "## Define constants"
   ]
  },
  {
   "cell_type": "code",
   "execution_count": 2,
   "metadata": {},
   "outputs": [],
   "source": [
    "EMBEDDING_FILE='./data/glove.6B.50d.txt'\n",
    "TRAIN_DATA_FILE='./data/train.csv'\n",
    "TEST_DATA_FILE='./data/test.csv'\n",
    "MODEL_WEIGHTS_FILE = './toxic_model.h5'"
   ]
  },
  {
   "cell_type": "code",
   "execution_count": 3,
   "metadata": {},
   "outputs": [],
   "source": [
    "embed_size = 50 # 단어를 몇 차원으로 임베딩할 것인가(how many dimensions use to embed word?) \n",
    "max_features = 20000 # 몇개의 단어를 주요한 특징으로 볼 것인가(How many words will be the main feature?) \n",
    "maxlen = 100 # 한 comment에서 가져올 수 있는 단어의 최대 갯수(The maximum number of words a comment can get?)"
   ]
  },
  {
   "cell_type": "markdown",
   "metadata": {},
   "source": [
    "## Load Toxic data"
   ]
  },
  {
   "cell_type": "code",
   "execution_count": 4,
   "metadata": {},
   "outputs": [],
   "source": [
    "train = pd.read_csv(TRAIN_DATA_FILE)\n",
    "test = pd.read_csv(TEST_DATA_FILE)"
   ]
  },
  {
   "cell_type": "code",
   "execution_count": 5,
   "metadata": {},
   "outputs": [
    {
     "data": {
      "text/html": [
       "<div>\n",
       "<style scoped>\n",
       "    .dataframe tbody tr th:only-of-type {\n",
       "        vertical-align: middle;\n",
       "    }\n",
       "\n",
       "    .dataframe tbody tr th {\n",
       "        vertical-align: top;\n",
       "    }\n",
       "\n",
       "    .dataframe thead th {\n",
       "        text-align: right;\n",
       "    }\n",
       "</style>\n",
       "<table border=\"1\" class=\"dataframe\">\n",
       "  <thead>\n",
       "    <tr style=\"text-align: right;\">\n",
       "      <th></th>\n",
       "      <th>id</th>\n",
       "      <th>comment_text</th>\n",
       "      <th>toxic</th>\n",
       "      <th>severe_toxic</th>\n",
       "      <th>obscene</th>\n",
       "      <th>threat</th>\n",
       "      <th>insult</th>\n",
       "      <th>identity_hate</th>\n",
       "    </tr>\n",
       "  </thead>\n",
       "  <tbody>\n",
       "    <tr>\n",
       "      <th>0</th>\n",
       "      <td>0000997932d777bf</td>\n",
       "      <td>Explanation\\nWhy the edits made under my usern...</td>\n",
       "      <td>0</td>\n",
       "      <td>0</td>\n",
       "      <td>0</td>\n",
       "      <td>0</td>\n",
       "      <td>0</td>\n",
       "      <td>0</td>\n",
       "    </tr>\n",
       "    <tr>\n",
       "      <th>1</th>\n",
       "      <td>000103f0d9cfb60f</td>\n",
       "      <td>D'aww! He matches this background colour I'm s...</td>\n",
       "      <td>0</td>\n",
       "      <td>0</td>\n",
       "      <td>0</td>\n",
       "      <td>0</td>\n",
       "      <td>0</td>\n",
       "      <td>0</td>\n",
       "    </tr>\n",
       "    <tr>\n",
       "      <th>2</th>\n",
       "      <td>000113f07ec002fd</td>\n",
       "      <td>Hey man, I'm really not trying to edit war. It...</td>\n",
       "      <td>0</td>\n",
       "      <td>0</td>\n",
       "      <td>0</td>\n",
       "      <td>0</td>\n",
       "      <td>0</td>\n",
       "      <td>0</td>\n",
       "    </tr>\n",
       "    <tr>\n",
       "      <th>3</th>\n",
       "      <td>0001b41b1c6bb37e</td>\n",
       "      <td>\"\\nMore\\nI can't make any real suggestions on ...</td>\n",
       "      <td>0</td>\n",
       "      <td>0</td>\n",
       "      <td>0</td>\n",
       "      <td>0</td>\n",
       "      <td>0</td>\n",
       "      <td>0</td>\n",
       "    </tr>\n",
       "    <tr>\n",
       "      <th>4</th>\n",
       "      <td>0001d958c54c6e35</td>\n",
       "      <td>You, sir, are my hero. Any chance you remember...</td>\n",
       "      <td>0</td>\n",
       "      <td>0</td>\n",
       "      <td>0</td>\n",
       "      <td>0</td>\n",
       "      <td>0</td>\n",
       "      <td>0</td>\n",
       "    </tr>\n",
       "  </tbody>\n",
       "</table>\n",
       "</div>"
      ],
      "text/plain": [
       "                 id                                       comment_text  toxic  \\\n",
       "0  0000997932d777bf  Explanation\\nWhy the edits made under my usern...      0   \n",
       "1  000103f0d9cfb60f  D'aww! He matches this background colour I'm s...      0   \n",
       "2  000113f07ec002fd  Hey man, I'm really not trying to edit war. It...      0   \n",
       "3  0001b41b1c6bb37e  \"\\nMore\\nI can't make any real suggestions on ...      0   \n",
       "4  0001d958c54c6e35  You, sir, are my hero. Any chance you remember...      0   \n",
       "\n",
       "   severe_toxic  obscene  threat  insult  identity_hate  \n",
       "0             0        0       0       0              0  \n",
       "1             0        0       0       0              0  \n",
       "2             0        0       0       0              0  \n",
       "3             0        0       0       0              0  \n",
       "4             0        0       0       0              0  "
      ]
     },
     "execution_count": 5,
     "metadata": {},
     "output_type": "execute_result"
    }
   ],
   "source": [
    "train[:5]"
   ]
  },
  {
   "cell_type": "code",
   "execution_count": 6,
   "metadata": {},
   "outputs": [
    {
     "data": {
      "text/html": [
       "<div>\n",
       "<style scoped>\n",
       "    .dataframe tbody tr th:only-of-type {\n",
       "        vertical-align: middle;\n",
       "    }\n",
       "\n",
       "    .dataframe tbody tr th {\n",
       "        vertical-align: top;\n",
       "    }\n",
       "\n",
       "    .dataframe thead th {\n",
       "        text-align: right;\n",
       "    }\n",
       "</style>\n",
       "<table border=\"1\" class=\"dataframe\">\n",
       "  <thead>\n",
       "    <tr style=\"text-align: right;\">\n",
       "      <th></th>\n",
       "      <th>id</th>\n",
       "      <th>comment_text</th>\n",
       "    </tr>\n",
       "  </thead>\n",
       "  <tbody>\n",
       "    <tr>\n",
       "      <th>0</th>\n",
       "      <td>00001cee341fdb12</td>\n",
       "      <td>Yo bitch Ja Rule is more succesful then you'll...</td>\n",
       "    </tr>\n",
       "    <tr>\n",
       "      <th>1</th>\n",
       "      <td>0000247867823ef7</td>\n",
       "      <td>== From RfC == \\n\\n The title is fine as it is...</td>\n",
       "    </tr>\n",
       "    <tr>\n",
       "      <th>2</th>\n",
       "      <td>00013b17ad220c46</td>\n",
       "      <td>\" \\n\\n == Sources == \\n\\n * Zawe Ashton on Lap...</td>\n",
       "    </tr>\n",
       "    <tr>\n",
       "      <th>3</th>\n",
       "      <td>00017563c3f7919a</td>\n",
       "      <td>:If you have a look back at the source, the in...</td>\n",
       "    </tr>\n",
       "    <tr>\n",
       "      <th>4</th>\n",
       "      <td>00017695ad8997eb</td>\n",
       "      <td>I don't anonymously edit articles at all.</td>\n",
       "    </tr>\n",
       "  </tbody>\n",
       "</table>\n",
       "</div>"
      ],
      "text/plain": [
       "                 id                                       comment_text\n",
       "0  00001cee341fdb12  Yo bitch Ja Rule is more succesful then you'll...\n",
       "1  0000247867823ef7  == From RfC == \\n\\n The title is fine as it is...\n",
       "2  00013b17ad220c46  \" \\n\\n == Sources == \\n\\n * Zawe Ashton on Lap...\n",
       "3  00017563c3f7919a  :If you have a look back at the source, the in...\n",
       "4  00017695ad8997eb          I don't anonymously edit articles at all."
      ]
     },
     "execution_count": 6,
     "metadata": {},
     "output_type": "execute_result"
    }
   ],
   "source": [
    "test[:5]"
   ]
  },
  {
   "cell_type": "code",
   "execution_count": 7,
   "metadata": {},
   "outputs": [],
   "source": [
    "# 결측값 처리로 값이 없을 경우에는 _na_ 로 대체함. 값이 없을 경우에 error 발생\n",
    "\n",
    "list_sentences_train = train[\"comment_text\"].fillna(\"_na_\").values # comment_text만 가져와서 fillna를 통해 nan를 거른다.\n",
    "                                                                   # Just import comment_text and filter nan through fillna.\n"
   ]
  },
  {
   "cell_type": "code",
   "execution_count": 8,
   "metadata": {},
   "outputs": [
    {
     "data": {
      "text/plain": [
       "array([\"Explanation\\nWhy the edits made under my username Hardcore Metallica Fan were reverted? They weren't vandalisms, just closure on some GAs after I voted at New York Dolls FAC. And please don't remove the template from the talk page since I'm retired now.89.205.38.27\",\n",
       "       \"D'aww! He matches this background colour I'm seemingly stuck with. Thanks.  (talk) 21:51, January 11, 2016 (UTC)\",\n",
       "       \"Hey man, I'm really not trying to edit war. It's just that this guy is constantly removing relevant information and talking to me through edits instead of my talk page. He seems to care more about the formatting than the actual info.\",\n",
       "       ...,\n",
       "       'Spitzer \\n\\nUmm, theres no actual article for prostitution ring.  - Crunch Captain.',\n",
       "       'And it looks like it was actually you who put on the speedy to have the first version deleted now that I look at it.',\n",
       "       '\"\\nAnd ... I really don\\'t think you understand.  I came here and my idea was bad right away.  What kind of community goes \"\"you have bad ideas\"\" go away, instead of helping rewrite them.   \"'],\n",
       "      dtype=object)"
      ]
     },
     "execution_count": 8,
     "metadata": {},
     "output_type": "execute_result"
    }
   ],
   "source": [
    "# 결측값이 보정된 값 확인으로 커멘트만 배열로 추출되었는지 확인해봄\n",
    "list_sentences_train "
   ]
  },
  {
   "cell_type": "code",
   "execution_count": 9,
   "metadata": {},
   "outputs": [],
   "source": [
    "list_classes = [\"toxic\", \"severe_toxic\", \"obscene\", \"threat\", \"insult\", \"identity_hate\"] # 사용할 컬럼들(to use columns)\n",
    "y = train[list_classes].values # labels of comment_text\n",
    "\n",
    "\n",
    "list_sentences_test = test[\"comment_text\"].fillna(\"_na_\").values # Do the same things for test_data"
   ]
  },
  {
   "cell_type": "markdown",
   "metadata": {},
   "source": [
    "## Tokenize comment_text"
   ]
  },
  {
   "cell_type": "code",
   "execution_count": 10,
   "metadata": {},
   "outputs": [],
   "source": [
    "tokenizer = Tokenizer(num_words=max_features) # max_features 만큼의 단어를 Tokenize하기 위한 틀 생성.\n",
    "                                              # Create a frame to Tokenize words as many as max_features.\n",
    "tokenizer.fit_on_texts(list(list_sentences_train)) # just fit\n",
    "list_tokenized_train = tokenizer.texts_to_sequences(list_sentences_train) # Tokenize(Transform word into number)\n",
    "list_tokenized_test = tokenizer.texts_to_sequences(list_sentences_test) # Tokenize(Transform word into number)"
   ]
  },
  {
   "cell_type": "code",
   "execution_count": 11,
   "metadata": {},
   "outputs": [
    {
     "name": "stdout",
     "output_type": "stream",
     "text": [
      "[[  688    75     1   126   130   177    29   672  4511 12052  1116    86\n",
      "    331    51  2278 11448    50  6864    15    60  2756   148     7  2937\n",
      "     34   117  1221 15190  2825     4    45    59   244     1   365    31\n",
      "      1    38    27   143    73  3462    89  3085  4583  2273   985]]\n"
     ]
    }
   ],
   "source": [
    "print(np.reshape(list_tokenized_train[0], (1,-1))) # 각 문장(comment)의 단어들을 1(가장 많이 사용된 단어) ~ 20000(2만번째로 많이 사용된 단어) 으로 정수화함"
   ]
  },
  {
   "cell_type": "code",
   "execution_count": 12,
   "metadata": {},
   "outputs": [],
   "source": [
    "X_t = pad_sequences(list_tokenized_train, maxlen=maxlen) # 모든 단어는 각자 다른 길이를 갖고 있으므로 작은 길이의 문장에 \n",
    "                                                         # padding을 해줌으로서 모든 문장의 길이를 maxlen로 맞춰줌\n",
    "                                                         # All comment_texts are different in length, \n",
    "                                                         # so 0 is filled as much as maxlen in small sentences\n",
    "X_te = pad_sequences(list_tokenized_test, maxlen=maxlen) # do the same thing"
   ]
  },
  {
   "cell_type": "code",
   "execution_count": 13,
   "metadata": {},
   "outputs": [
    {
     "data": {
      "text/plain": [
       "array([[    0,     0,     0, ...,  4583,  2273,   985],\n",
       "       [    0,     0,     0, ...,   589,  8377,   182],\n",
       "       [    0,     0,     0, ...,     1,   737,   468],\n",
       "       ...,\n",
       "       [    0,     0,     0, ...,  3509, 13675,  4528],\n",
       "       [    0,     0,     0, ...,   151,    34,    11],\n",
       "       [    0,     0,     0, ...,  1627,  2056,    88]], dtype=int32)"
      ]
     },
     "execution_count": 13,
     "metadata": {},
     "output_type": "execute_result"
    }
   ],
   "source": [
    "X_t # 모든 문장의 길이를 maxlen으로 통일"
   ]
  },
  {
   "cell_type": "markdown",
   "metadata": {},
   "source": [
    "## Get GloVe vectors"
   ]
  },
  {
   "cell_type": "code",
   "execution_count": 14,
   "metadata": {},
   "outputs": [
    {
     "data": {
      "text/plain": [
       "array([ 0.52042 , -0.8314  ,  0.49961 ,  1.2893  ,  0.1151  ,  0.057521,\n",
       "       -1.3753  , -0.97313 ,  0.18346 ,  0.47672 , -0.15112 ,  0.35532 ,\n",
       "        0.25912 , -0.77857 ,  0.52181 ,  0.47695 , -1.4251  ,  0.858   ,\n",
       "        0.59821 , -1.0903  ,  0.33574 , -0.60891 ,  0.41742 ,  0.21569 ,\n",
       "       -0.07417 , -0.5822  , -0.4502  ,  0.17253 ,  0.16448 , -0.38413 ,\n",
       "        2.3283  , -0.66682 , -0.58181 ,  0.74389 ,  0.095015, -0.47865 ,\n",
       "       -0.84591 ,  0.38704 ,  0.23693 , -1.5523  ,  0.64802 , -0.16521 ,\n",
       "       -1.4719  , -0.16224 ,  0.79857 ,  0.97391 ,  0.40027 , -0.21912 ,\n",
       "       -0.30938 ,  0.26581 ], dtype=float32)"
      ]
     },
     "execution_count": 14,
     "metadata": {},
     "output_type": "execute_result"
    }
   ],
   "source": [
    "def get_coefs(word,*arr): \n",
    "    return word, np.asarray(arr, dtype='float32')\n",
    "embeddings_index = dict(get_coefs(*o.strip().split()) for o in open(EMBEDDING_FILE)) # glove의 (단어, 벡터)를 가져옴\n",
    "                                                                                     # Get (word, vector) of glove\n",
    "embeddings_index.get(\"apple\")"
   ]
  },
  {
   "cell_type": "code",
   "execution_count": 15,
   "metadata": {
    "scrolled": true
   },
   "outputs": [
    {
     "name": "stderr",
     "output_type": "stream",
     "text": [
      "/Users/kimkwangil/opt/anaconda3/envs/py37Keras/lib/python3.7/site-packages/IPython/core/interactiveshell.py:3357: FutureWarning: arrays to stack must be passed as a \"sequence\" type such as list or tuple. Support for non-sequence iterables such as generators is deprecated as of NumPy 1.16 and will raise an error in the future.\n",
      "  if (await self.run_code(code, result,  async_=asy)):\n"
     ]
    },
    {
     "data": {
      "text/plain": [
       "(0.020940498, 0.6441043)"
      ]
     },
     "execution_count": 15,
     "metadata": {},
     "output_type": "execute_result"
    }
   ],
   "source": [
    "all_embs = np.stack(embeddings_index.values()) # glove의 dict(embeddings_index)에서 벡터만 list 로 변환\n",
    "                                               # Convert vectors of glove's dict(embeddings_index) into list\n",
    "emb_mean,emb_std = all_embs.mean(), all_embs.std() # glove 벡터들의 평균과 표준편차를 구함\n",
    "                                                   # Obtain the mean and standard deviation of glove vectors\n",
    "emb_mean,emb_std"
   ]
  },
  {
   "cell_type": "markdown",
   "metadata": {},
   "source": [
    "## make embedding maxtirx based GloVe"
   ]
  },
  {
   "cell_type": "code",
   "execution_count": 16,
   "metadata": {},
   "outputs": [],
   "source": [
    "word_index = tokenizer.word_index # tokenizer에 의해 얻어진 모든 단어들의 배열\n",
    "                                  # an array of all the words obtained by the tokenizer\n",
    "nb_words = min(max_features, len(word_index)) # glove의 영어단어는 너무 많으므로 max_features에 맞출지 word_index에 맞출지 정함\n",
    "                                              # Because glove has too many English words, \n",
    "                                              # it determines whether the number of words matches max_features or word_index\n",
    "embedding_matrix = np.random.normal(emb_mean, emb_std, (nb_words, embed_size)) # (nb_words X embed_size) 크기의 벡터 필드를 설정\n",
    "                                                                               # Set a vector field of size (nb_words X embed_size)"
   ]
  },
  {
   "cell_type": "code",
   "execution_count": 17,
   "metadata": {},
   "outputs": [],
   "source": [
    "for word, i in word_index.items():\n",
    "    if i >= max_features: \n",
    "        continue # 2만개 이상은 무시(Ignore more than max_feature.)\n",
    "    embedding_vector = embeddings_index.get(word) # comment에서 사용된 단어의 벡터값을 glove에서 가져옴\n",
    "                                                  # The vector value of the word used in comment is taken from glove\n",
    "    \n",
    "    if embedding_vector is not None: \n",
    "        embedding_matrix[i] = embedding_vector # embedding_matrix에 사용된 단어의 벡터값을 덮어 씌움\n",
    "                                               # Override embedding_matrix with the vector value defined in glove."
   ]
  },
  {
   "cell_type": "markdown",
   "metadata": {},
   "source": [
    "## Define Model"
   ]
  },
  {
   "cell_type": "code",
   "execution_count": 18,
   "metadata": {},
   "outputs": [],
   "source": [
    "inp = Input(shape=(maxlen,)) # X_t가 (maxlen, -1)인지 재확인 및 reshape\n",
    "x = Embedding(max_features, embed_size, weights=[embedding_matrix])(inp) # inp를 (max_features X embed_size)의 행렬에 weights의 가중치로 embedding\n",
    "\n",
    "x = SpatialDropout1D(0.2)(x) # 현재 (단어 x embed_size)의 행렬에서 각 문장당 dropout을 수행\n",
    "                                           # 간단히 말하면 몇 단어 빼고서 학습한다는 의미\n",
    "\n",
    "x = Bidirectional(GRU(128, return_sequences=True,dropout=0.1,recurrent_dropout=0.1))(x) # GRU를 통해 학습\n",
    "x = Conv1D(64, kernel_size = 3, padding = \"valid\", kernel_initializer = \"glorot_uniform\")(x) # 그 결과를 CNN에 통과\n",
    "avg_pool = GlobalAveragePooling1D()(x) # CNN의 결과를 AveragePooling하고\n",
    "max_pool = GlobalMaxPooling1D()(x) # CNN의 결과를 MaxPooling한 뒤\n",
    "\n",
    "x = concatenate([avg_pool, max_pool])  # 합쳐서\n",
    "\n",
    "preds = Dense(6, activation=\"sigmoid\")(x) # sigmoid 에 통과한다.\n",
    "\n",
    "# 간단 요약. RNN과 CNN을 통과해 각 문장의 특징들을 추출한 뒤, \n",
    "#그 중 가장 두드러진 특징과 전반적인 특징을 모아서 결론을 냈다.\n",
    "\n",
    "model = Model(inp, preds) # 모델의 input, output설정\n",
    "model.compile(loss='binary_crossentropy',optimizer=Adam(lr=1e-4),metrics=['accuracy']) # optimizer는 adam loss는 binary_crossentropy로 구함"
   ]
  },
  {
   "cell_type": "code",
   "execution_count": 19,
   "metadata": {},
   "outputs": [
    {
     "name": "stdout",
     "output_type": "stream",
     "text": [
      "Epoch 1/20\n",
      "4488/4488 [==============================] - 577s 128ms/step - loss: 0.1077 - accuracy: 0.8519 - val_loss: 0.0614 - val_accuracy: 0.9903\n",
      "WARNING:tensorflow:Learning rate reduction is conditioned on metric `val_acc` which is not available. Available metrics are: loss,accuracy,val_loss,val_accuracy,lr\n",
      "Epoch 2/20\n",
      "4488/4488 [==============================] - 509s 113ms/step - loss: 0.0608 - accuracy: 0.9731 - val_loss: 0.0564 - val_accuracy: 0.9813\n",
      "WARNING:tensorflow:Learning rate reduction is conditioned on metric `val_acc` which is not available. Available metrics are: loss,accuracy,val_loss,val_accuracy,lr\n",
      "Epoch 3/20\n",
      "4488/4488 [==============================] - 483s 108ms/step - loss: 0.0563 - accuracy: 0.9730 - val_loss: 0.0535 - val_accuracy: 0.9752\n",
      "WARNING:tensorflow:Learning rate reduction is conditioned on metric `val_acc` which is not available. Available metrics are: loss,accuracy,val_loss,val_accuracy,lr\n",
      "Epoch 4/20\n",
      "4488/4488 [==============================] - 485s 108ms/step - loss: 0.0536 - accuracy: 0.9674 - val_loss: 0.0521 - val_accuracy: 0.9893\n",
      "WARNING:tensorflow:Learning rate reduction is conditioned on metric `val_acc` which is not available. Available metrics are: loss,accuracy,val_loss,val_accuracy,lr\n",
      "Epoch 5/20\n",
      "4488/4488 [==============================] - 478s 107ms/step - loss: 0.0495 - accuracy: 0.9669 - val_loss: 0.0514 - val_accuracy: 0.9924\n",
      "WARNING:tensorflow:Learning rate reduction is conditioned on metric `val_acc` which is not available. Available metrics are: loss,accuracy,val_loss,val_accuracy,lr\n",
      "Epoch 6/20\n",
      "4488/4488 [==============================] - 480s 107ms/step - loss: 0.0485 - accuracy: 0.9616 - val_loss: 0.0491 - val_accuracy: 0.9204\n",
      "WARNING:tensorflow:Learning rate reduction is conditioned on metric `val_acc` which is not available. Available metrics are: loss,accuracy,val_loss,val_accuracy,lr\n",
      "Epoch 7/20\n",
      "4488/4488 [==============================] - 483s 108ms/step - loss: 0.0467 - accuracy: 0.9522 - val_loss: 0.0486 - val_accuracy: 0.9490\n",
      "WARNING:tensorflow:Learning rate reduction is conditioned on metric `val_acc` which is not available. Available metrics are: loss,accuracy,val_loss,val_accuracy,lr\n",
      "Epoch 8/20\n",
      "4488/4488 [==============================] - 474s 106ms/step - loss: 0.0463 - accuracy: 0.9490 - val_loss: 0.0482 - val_accuracy: 0.9789\n",
      "WARNING:tensorflow:Learning rate reduction is conditioned on metric `val_acc` which is not available. Available metrics are: loss,accuracy,val_loss,val_accuracy,lr\n",
      "Epoch 9/20\n",
      "4488/4488 [==============================] - 519s 116ms/step - loss: 0.0441 - accuracy: 0.9531 - val_loss: 0.0469 - val_accuracy: 0.9868\n",
      "WARNING:tensorflow:Learning rate reduction is conditioned on metric `val_acc` which is not available. Available metrics are: loss,accuracy,val_loss,val_accuracy,lr\n",
      "Epoch 10/20\n",
      "4488/4488 [==============================] - 596s 133ms/step - loss: 0.0439 - accuracy: 0.9462 - val_loss: 0.0472 - val_accuracy: 0.9892\n",
      "WARNING:tensorflow:Learning rate reduction is conditioned on metric `val_acc` which is not available. Available metrics are: loss,accuracy,val_loss,val_accuracy,lr\n",
      "Epoch 11/20\n",
      "4488/4488 [==============================] - 600s 134ms/step - loss: 0.0429 - accuracy: 0.9617 - val_loss: 0.0471 - val_accuracy: 0.9655\n",
      "WARNING:tensorflow:Learning rate reduction is conditioned on metric `val_acc` which is not available. Available metrics are: loss,accuracy,val_loss,val_accuracy,lr\n",
      "Epoch 12/20\n",
      "4488/4488 [==============================] - 619s 138ms/step - loss: 0.0419 - accuracy: 0.9356 - val_loss: 0.0461 - val_accuracy: 0.9677\n",
      "WARNING:tensorflow:Learning rate reduction is conditioned on metric `val_acc` which is not available. Available metrics are: loss,accuracy,val_loss,val_accuracy,lr\n",
      "Epoch 13/20\n",
      "4488/4488 [==============================] - 635s 141ms/step - loss: 0.0414 - accuracy: 0.9577 - val_loss: 0.0467 - val_accuracy: 0.9420\n",
      "WARNING:tensorflow:Learning rate reduction is conditioned on metric `val_acc` which is not available. Available metrics are: loss,accuracy,val_loss,val_accuracy,lr\n",
      "Epoch 14/20\n",
      "4488/4488 [==============================] - 537s 120ms/step - loss: 0.0399 - accuracy: 0.9488 - val_loss: 0.0455 - val_accuracy: 0.9505\n",
      "WARNING:tensorflow:Learning rate reduction is conditioned on metric `val_acc` which is not available. Available metrics are: loss,accuracy,val_loss,val_accuracy,lr\n",
      "Epoch 15/20\n",
      "4488/4488 [==============================] - 544s 121ms/step - loss: 0.0403 - accuracy: 0.9438 - val_loss: 0.0454 - val_accuracy: 0.9471\n",
      "WARNING:tensorflow:Learning rate reduction is conditioned on metric `val_acc` which is not available. Available metrics are: loss,accuracy,val_loss,val_accuracy,lr\n",
      "Epoch 16/20\n",
      "4488/4488 [==============================] - 569s 127ms/step - loss: 0.0390 - accuracy: 0.9361 - val_loss: 0.0457 - val_accuracy: 0.9752\n",
      "WARNING:tensorflow:Learning rate reduction is conditioned on metric `val_acc` which is not available. Available metrics are: loss,accuracy,val_loss,val_accuracy,lr\n",
      "Epoch 17/20\n",
      "4488/4488 [==============================] - 569s 127ms/step - loss: 0.0382 - accuracy: 0.9365 - val_loss: 0.0452 - val_accuracy: 0.9554\n",
      "WARNING:tensorflow:Learning rate reduction is conditioned on metric `val_acc` which is not available. Available metrics are: loss,accuracy,val_loss,val_accuracy,lr\n",
      "Epoch 18/20\n",
      "4488/4488 [==============================] - 585s 130ms/step - loss: 0.0374 - accuracy: 0.9379 - val_loss: 0.0457 - val_accuracy: 0.9729\n",
      "WARNING:tensorflow:Learning rate reduction is conditioned on metric `val_acc` which is not available. Available metrics are: loss,accuracy,val_loss,val_accuracy,lr\n",
      "Epoch 19/20\n",
      "4488/4488 [==============================] - 575s 128ms/step - loss: 0.0372 - accuracy: 0.9440 - val_loss: 0.0458 - val_accuracy: 0.9479\n",
      "WARNING:tensorflow:Learning rate reduction is conditioned on metric `val_acc` which is not available. Available metrics are: loss,accuracy,val_loss,val_accuracy,lr\n",
      "Epoch 20/20\n",
      "4488/4488 [==============================] - 587s 131ms/step - loss: 0.0369 - accuracy: 0.9126 - val_loss: 0.0457 - val_accuracy: 0.9518\n",
      "WARNING:tensorflow:Learning rate reduction is conditioned on metric `val_acc` which is not available. Available metrics are: loss,accuracy,val_loss,val_accuracy,lr\n"
     ]
    }
   ],
   "source": [
    "learning_rate_reduction = ReduceLROnPlateau(monitor='val_acc', \n",
    "                                            patience=2, \n",
    "                                            verbose=1, \n",
    "                                            factor=0.5, \n",
    "                                            min_lr=0.00000001)\n",
    "\n",
    "callbacks = [learning_rate_reduction, # learning_rate를 점차 감소시킴으로서 최적값에 접근하는 방식\n",
    "                                                       # approach to get optimal value by gradually decreasing learning_rate\n",
    "             EarlyStopping('val_loss', patience=3), # val_loss이 최적값에서 멀어지는 순간 epoch가 남아도 학습 중지\n",
    "                                                                       # If val_loss deviates from the optimal value, \n",
    "                                                                       # learning stops even if epoch remains.\n",
    "             ModelCheckpoint(MODEL_WEIGHTS_FILE, save_best_only=True)] # 모델을 학습시키면서 지금까지 등장했던 최적의 weight들을 항상 저장한다.\n",
    "                                                                                                            # Always store the optimal weights that have been shown so far \n",
    "                                                                                                            # while learning the model\n",
    "\n",
    "history = model.fit(X_t, y, batch_size=32, epochs=20, validation_split=0.1, callbacks=callbacks); # 학습 시작"
   ]
  },
  {
   "cell_type": "code",
   "execution_count": 25,
   "metadata": {},
   "outputs": [
    {
     "name": "stdout",
     "output_type": "stream",
     "text": [
      "Saved model to disk\n"
     ]
    }
   ],
   "source": [
    "model.save_weights(\"model.h5\")\n",
    "\n",
    "print(\"Saved model to disk\")\n"
   ]
  },
  {
   "cell_type": "markdown",
   "metadata": {},
   "source": [
    "## Predict result"
   ]
  },
  {
   "cell_type": "code",
   "execution_count": 20,
   "metadata": {},
   "outputs": [
    {
     "name": "stdout",
     "output_type": "stream",
     "text": [
      "150/150 [==============================] - 55s 366ms/step\n"
     ]
    }
   ],
   "source": [
    "y_test = model.predict([X_te], batch_size=1024, verbose=1) # model에 test data를 넣고 예측\n",
    "sample_submission = pd.read_csv('./data/sample_submission.csv') # 예측값을 저장할 csv파일\n",
    "sample_submission[list_classes] = y_test # csv에 저장할 값을 설정\n",
    "sample_submission.to_csv('./data/submission.csv', index=False) # csv파일에 저장"
   ]
  },
  {
   "cell_type": "markdown",
   "metadata": {},
   "source": [
    "## Make graph that compare loss and val_loss"
   ]
  },
  {
   "cell_type": "code",
   "execution_count": 24,
   "metadata": {
    "scrolled": true
   },
   "outputs": [
    {
     "data": {
      "image/png": "[encoded data removed]",
      "text/plain": [
       "<Figure size 432x288 with 1 Axes>"
      ]
     },
     "metadata": {
      "needs_background": "light"
     },
     "output_type": "display_data"
    }
   ],
   "source": [
    "loss = pd.DataFrame({'epoch': [ i + 1 for i in history.epoch ],\n",
    "                     'training': [ math.sqrt(loss) for loss in history.history['loss'] ],\n",
    "                     'validation': [ math.sqrt(loss) for loss in history.history['val_loss'] ]})\n",
    "ax = loss.loc[:,:].plot(x='epoch', grid=True)\n",
    "ax.set_ylabel(\"root mean squared error\")\n",
    "ax.set_ylim([0.15,0.3]);"
   ]
  },
  {
   "cell_type": "markdown",
   "metadata": {},
   "source": [
    "## 학습한 모델로 입력값 분석하기"
   ]
  },
  {
   "cell_type": "code",
   "execution_count": 27,
   "metadata": {},
   "outputs": [
    {
     "data": {
      "text/html": [
       "<div>\n",
       "<style scoped>\n",
       "    .dataframe tbody tr th:only-of-type {\n",
       "        vertical-align: middle;\n",
       "    }\n",
       "\n",
       "    .dataframe tbody tr th {\n",
       "        vertical-align: top;\n",
       "    }\n",
       "\n",
       "    .dataframe thead th {\n",
       "        text-align: right;\n",
       "    }\n",
       "</style>\n",
       "<table border=\"1\" class=\"dataframe\">\n",
       "  <thead>\n",
       "    <tr style=\"text-align: right;\">\n",
       "      <th></th>\n",
       "      <th>id</th>\n",
       "      <th>comment_text</th>\n",
       "    </tr>\n",
       "  </thead>\n",
       "  <tbody>\n",
       "    <tr>\n",
       "      <th>0</th>\n",
       "      <td>00001cee341fdb12</td>\n",
       "      <td>Yo bitch Ja Rule is more succesful then you'll...</td>\n",
       "    </tr>\n",
       "    <tr>\n",
       "      <th>1</th>\n",
       "      <td>0000247867823ef7</td>\n",
       "      <td>== From RfC == \\n\\n The title is fine as it is...</td>\n",
       "    </tr>\n",
       "    <tr>\n",
       "      <th>2</th>\n",
       "      <td>00013b17ad220c46</td>\n",
       "      <td>\" \\n\\n == Sources == \\n\\n * Zawe Ashton on Lap...</td>\n",
       "    </tr>\n",
       "    <tr>\n",
       "      <th>3</th>\n",
       "      <td>00017563c3f7919a</td>\n",
       "      <td>:If you have a look back at the source, the in...</td>\n",
       "    </tr>\n",
       "    <tr>\n",
       "      <th>4</th>\n",
       "      <td>00017695ad8997eb</td>\n",
       "      <td>I don't anonymously edit articles at all.</td>\n",
       "    </tr>\n",
       "    <tr>\n",
       "      <th>...</th>\n",
       "      <td>...</td>\n",
       "      <td>...</td>\n",
       "    </tr>\n",
       "    <tr>\n",
       "      <th>153159</th>\n",
       "      <td>fffcd0960ee309b5</td>\n",
       "      <td>. \\n i totally agree, this stuff is nothing bu...</td>\n",
       "    </tr>\n",
       "    <tr>\n",
       "      <th>153160</th>\n",
       "      <td>fffd7a9a6eb32c16</td>\n",
       "      <td>== Throw from out field to home plate. == \\n\\n...</td>\n",
       "    </tr>\n",
       "    <tr>\n",
       "      <th>153161</th>\n",
       "      <td>fffda9e8d6fafa9e</td>\n",
       "      <td>\" \\n\\n == Okinotorishima categories == \\n\\n I ...</td>\n",
       "    </tr>\n",
       "    <tr>\n",
       "      <th>153162</th>\n",
       "      <td>fffe8f1340a79fc2</td>\n",
       "      <td>\" \\n\\n == \"\"One of the founding nations of the...</td>\n",
       "    </tr>\n",
       "    <tr>\n",
       "      <th>153163</th>\n",
       "      <td>ffffce3fb183ee80</td>\n",
       "      <td>\" \\n :::Stop already. Your bullshit is not wel...</td>\n",
       "    </tr>\n",
       "  </tbody>\n",
       "</table>\n",
       "<p>153164 rows × 2 columns</p>\n",
       "</div>"
      ],
      "text/plain": [
       "                      id                                       comment_text\n",
       "0       00001cee341fdb12  Yo bitch Ja Rule is more succesful then you'll...\n",
       "1       0000247867823ef7  == From RfC == \\n\\n The title is fine as it is...\n",
       "2       00013b17ad220c46  \" \\n\\n == Sources == \\n\\n * Zawe Ashton on Lap...\n",
       "3       00017563c3f7919a  :If you have a look back at the source, the in...\n",
       "4       00017695ad8997eb          I don't anonymously edit articles at all.\n",
       "...                  ...                                                ...\n",
       "153159  fffcd0960ee309b5  . \\n i totally agree, this stuff is nothing bu...\n",
       "153160  fffd7a9a6eb32c16  == Throw from out field to home plate. == \\n\\n...\n",
       "153161  fffda9e8d6fafa9e  \" \\n\\n == Okinotorishima categories == \\n\\n I ...\n",
       "153162  fffe8f1340a79fc2  \" \\n\\n == \"\"One of the founding nations of the...\n",
       "153163  ffffce3fb183ee80  \" \\n :::Stop already. Your bullshit is not wel...\n",
       "\n",
       "[153164 rows x 2 columns]"
      ]
     },
     "execution_count": 27,
     "metadata": {},
     "output_type": "execute_result"
    }
   ],
   "source": [
    "TEST_DATA_FILE='./data/test.csv'\n",
    "\n",
    "test = pd.read_csv(TEST_DATA_FILE)\n",
    "\n",
    "test"
   ]
  },
  {
   "cell_type": "code",
   "execution_count": 32,
   "metadata": {},
   "outputs": [
    {
     "name": "stdout",
     "output_type": "stream",
     "text": [
      "0    Yo bitch Ja Rule is more succesful then you'll...\n",
      "Name: comment_text, dtype: object\n"
     ]
    }
   ],
   "source": [
    "print(test[:1][\"comment_text\"])"
   ]
  },
  {
   "cell_type": "code",
   "execution_count": 33,
   "metadata": {},
   "outputs": [
    {
     "data": {
      "text/plain": [
       "array([\"Yo bitch Ja Rule is more succesful then you'll ever be whats up with you and hating you sad mofuckas...i should bitch slap ur pethedic white faces and get you to kiss my ass you guys sicken me. Ja rule is about pride in da music man. dont diss that shit on him. and nothin is wrong bein like tupac he was a brother too...fuckin white boys get things right next time.,\"],\n",
       "      dtype=object)"
      ]
     },
     "execution_count": 33,
     "metadata": {},
     "output_type": "execute_result"
    }
   ],
   "source": [
    "list_sentences_test = test[\"comment_text\"].fillna(\"_na_\").values # Do the same things for test_data\n",
    "\n",
    "list_sentences_test[:1]"
   ]
  },
  {
   "cell_type": "code",
   "execution_count": 37,
   "metadata": {},
   "outputs": [
    {
     "data": {
      "text/plain": [
       "array([[0, 0, 0, ..., 0, 0, 0],\n",
       "       [0, 0, 0, ..., 0, 0, 0],\n",
       "       [0, 0, 0, ..., 0, 0, 0],\n",
       "       ...,\n",
       "       [0, 0, 0, ..., 0, 0, 0],\n",
       "       [0, 0, 0, ..., 0, 0, 0],\n",
       "       [0, 0, 0, ..., 0, 0, 0]], dtype=int32)"
      ]
     },
     "execution_count": 37,
     "metadata": {},
     "output_type": "execute_result"
    }
   ],
   "source": [
    "# Tokenize comment_text\n",
    "tokenizer = Tokenizer(num_words=max_features) # max_features 만큼의 단어를 Tokenize하기 위한 틀 생성.\n",
    "                                              # Create a frame to Tokenize words as many as max_features.\n",
    "\n",
    "list_tokenized_test = tokenizer.texts_to_sequences(list_sentences_test) # Tokenize(Transform word into number)\n",
    "\n",
    "X_te = pad_sequences(list_tokenized_test, maxlen=maxlen) # 모든 단어는 각자 다른 길이를 갖고 있으므로 작은 길이의 문장에 \n",
    "                                                         # padding을 해줌으로서 모든 문장의 길이를 maxlen로 맞춰줌\n",
    "                                                         # All comment_texts are different in length, \n",
    "                                                         # so 0 is filled as much as maxlen in small sentences\n",
    "            \n",
    "X_te"
   ]
  },
  {
   "cell_type": "markdown",
   "metadata": {},
   "source": [
    "## 문장 넣어서 입력"
   ]
  },
  {
   "cell_type": "code",
   "execution_count": 38,
   "metadata": {},
   "outputs": [],
   "source": [
    "input_sentence = \"Yo bitch Ja Rule is more succesful then you'll ever be whats up with you and hating you sad mofuckas...i should bitch slap ur pethedic white faces and get you to kiss my ass you guys sicken me. Ja rule is about pride in da music man. dont diss that shit on him. and nothin is wrong bein like tupac he was a brother too...fuckin white boys get things right next time.,\"\n"
   ]
  },
  {
   "cell_type": "code",
   "execution_count": 39,
   "metadata": {},
   "outputs": [
    {
     "data": {
      "text/plain": [
       "array([[0, 0, 0, ..., 0, 0, 0],\n",
       "       [0, 0, 0, ..., 0, 0, 0],\n",
       "       [0, 0, 0, ..., 0, 0, 0],\n",
       "       ...,\n",
       "       [0, 0, 0, ..., 0, 0, 0],\n",
       "       [0, 0, 0, ..., 0, 0, 0],\n",
       "       [0, 0, 0, ..., 0, 0, 0]], dtype=int32)"
      ]
     },
     "execution_count": 39,
     "metadata": {},
     "output_type": "execute_result"
    }
   ],
   "source": [
    "# Tokenize comment_text\n",
    "tokenizer = Tokenizer(num_words=max_features) # max_features 만큼의 단어를 Tokenize하기 위한 틀 생성.\n",
    "                                              # Create a frame to Tokenize words as many as max_features.\n",
    "\n",
    "list_tokenized_test = tokenizer.texts_to_sequences(input_sentence) # Tokenize(Transform word into number)\n",
    "\n",
    "X_te_ = pad_sequences(list_tokenized_test, maxlen=maxlen) # 모든 단어는 각자 다른 길이를 갖고 있으므로 작은 길이의 문장에 \n",
    "                                                         # padding을 해줌으로서 모든 문장의 길이를 maxlen로 맞춰줌\n",
    "                                                         # All comment_texts are different in length, \n",
    "                                                         # so 0 is filled as much as maxlen in small sentences\n",
    "            \n",
    "X_te_"
   ]
  },
  {
   "cell_type": "code",
   "execution_count": 40,
   "metadata": {},
   "outputs": [
    {
     "name": "stdout",
     "output_type": "stream",
     "text": [
      "1/1 [==============================] - 0s 174ms/step\n"
     ]
    },
    {
     "data": {
      "text/plain": [
       "array([[0.06256434, 0.00492993, 0.02044776, 0.00203806, 0.01044104,\n",
       "        0.00120094],\n",
       "       [0.06256434, 0.00492993, 0.02044776, 0.00203806, 0.01044104,\n",
       "        0.00120094],\n",
       "       [0.06256434, 0.00492993, 0.02044776, 0.00203806, 0.01044104,\n",
       "        0.00120094],\n",
       "       ...,\n",
       "       [0.06256428, 0.00492987, 0.02044776, 0.00203806, 0.01044104,\n",
       "        0.00120088],\n",
       "       [0.06256428, 0.00492987, 0.02044776, 0.00203806, 0.01044104,\n",
       "        0.00120088],\n",
       "       [0.06256428, 0.00492993, 0.02044776, 0.00203806, 0.01044104,\n",
       "        0.00120088]], dtype=float32)"
      ]
     },
     "execution_count": 40,
     "metadata": {},
     "output_type": "execute_result"
    }
   ],
   "source": [
    "y_test_ = model.predict([X_te_], batch_size=1024, verbose=1) # model에 test data를 넣고 예측\n",
    "y_test_"
   ]
  },
  {
   "cell_type": "code",
   "execution_count": 46,
   "metadata": {},
   "outputs": [],
   "source": [
    "result_of_submission = pd.read_csv('./data/result_of_submission.csv') # 예측값을 저장할 csv파일\n",
    "result_of_submission[list_classes] = y_test_ # csv에 저장할 값을 설정\n",
    "result_of_submission.to_csv('./data/submission.csv', index=False) # csv파일에 저장"
   ]
  },
  {
   "cell_type": "code",
   "execution_count": 47,
   "metadata": {},
   "outputs": [
    {
     "data": {
      "text/html": [
       "<div>\n",
       "<style scoped>\n",
       "    .dataframe tbody tr th:only-of-type {\n",
       "        vertical-align: middle;\n",
       "    }\n",
       "\n",
       "    .dataframe tbody tr th {\n",
       "        vertical-align: top;\n",
       "    }\n",
       "\n",
       "    .dataframe thead th {\n",
       "        text-align: right;\n",
       "    }\n",
       "</style>\n",
       "<table border=\"1\" class=\"dataframe\">\n",
       "  <thead>\n",
       "    <tr style=\"text-align: right;\">\n",
       "      <th></th>\n",
       "      <th>id\\ttoxic\\tsevere_toxic\\tobscene\\tthreat\\tinsult\\tidentity_hate</th>\n",
       "      <th>toxic</th>\n",
       "      <th>severe_toxic</th>\n",
       "      <th>obscene</th>\n",
       "      <th>threat</th>\n",
       "      <th>insult</th>\n",
       "      <th>identity_hate</th>\n",
       "    </tr>\n",
       "  </thead>\n",
       "  <tbody>\n",
       "    <tr>\n",
       "      <th>0</th>\n",
       "      <td>NaN</td>\n",
       "      <td>0.062564</td>\n",
       "      <td>0.00493</td>\n",
       "      <td>0.020448</td>\n",
       "      <td>0.002038</td>\n",
       "      <td>0.010441</td>\n",
       "      <td>0.001201</td>\n",
       "    </tr>\n",
       "    <tr>\n",
       "      <th>1</th>\n",
       "      <td>NaN</td>\n",
       "      <td>0.062564</td>\n",
       "      <td>0.00493</td>\n",
       "      <td>0.020448</td>\n",
       "      <td>0.002038</td>\n",
       "      <td>0.010441</td>\n",
       "      <td>0.001201</td>\n",
       "    </tr>\n",
       "    <tr>\n",
       "      <th>2</th>\n",
       "      <td>NaN</td>\n",
       "      <td>0.062564</td>\n",
       "      <td>0.00493</td>\n",
       "      <td>0.020448</td>\n",
       "      <td>0.002038</td>\n",
       "      <td>0.010441</td>\n",
       "      <td>0.001201</td>\n",
       "    </tr>\n",
       "    <tr>\n",
       "      <th>3</th>\n",
       "      <td>NaN</td>\n",
       "      <td>0.062564</td>\n",
       "      <td>0.00493</td>\n",
       "      <td>0.020448</td>\n",
       "      <td>0.002038</td>\n",
       "      <td>0.010441</td>\n",
       "      <td>0.001201</td>\n",
       "    </tr>\n",
       "    <tr>\n",
       "      <th>4</th>\n",
       "      <td>NaN</td>\n",
       "      <td>0.062564</td>\n",
       "      <td>0.00493</td>\n",
       "      <td>0.020448</td>\n",
       "      <td>0.002038</td>\n",
       "      <td>0.010441</td>\n",
       "      <td>0.001201</td>\n",
       "    </tr>\n",
       "    <tr>\n",
       "      <th>...</th>\n",
       "      <td>...</td>\n",
       "      <td>...</td>\n",
       "      <td>...</td>\n",
       "      <td>...</td>\n",
       "      <td>...</td>\n",
       "      <td>...</td>\n",
       "      <td>...</td>\n",
       "    </tr>\n",
       "    <tr>\n",
       "      <th>362</th>\n",
       "      <td>NaN</td>\n",
       "      <td>0.062564</td>\n",
       "      <td>0.00493</td>\n",
       "      <td>0.020448</td>\n",
       "      <td>0.002038</td>\n",
       "      <td>0.010441</td>\n",
       "      <td>0.001201</td>\n",
       "    </tr>\n",
       "    <tr>\n",
       "      <th>363</th>\n",
       "      <td>NaN</td>\n",
       "      <td>0.062564</td>\n",
       "      <td>0.00493</td>\n",
       "      <td>0.020448</td>\n",
       "      <td>0.002038</td>\n",
       "      <td>0.010441</td>\n",
       "      <td>0.001201</td>\n",
       "    </tr>\n",
       "    <tr>\n",
       "      <th>364</th>\n",
       "      <td>NaN</td>\n",
       "      <td>0.062564</td>\n",
       "      <td>0.00493</td>\n",
       "      <td>0.020448</td>\n",
       "      <td>0.002038</td>\n",
       "      <td>0.010441</td>\n",
       "      <td>0.001201</td>\n",
       "    </tr>\n",
       "    <tr>\n",
       "      <th>365</th>\n",
       "      <td>NaN</td>\n",
       "      <td>0.062564</td>\n",
       "      <td>0.00493</td>\n",
       "      <td>0.020448</td>\n",
       "      <td>0.002038</td>\n",
       "      <td>0.010441</td>\n",
       "      <td>0.001201</td>\n",
       "    </tr>\n",
       "    <tr>\n",
       "      <th>366</th>\n",
       "      <td>NaN</td>\n",
       "      <td>0.062564</td>\n",
       "      <td>0.00493</td>\n",
       "      <td>0.020448</td>\n",
       "      <td>0.002038</td>\n",
       "      <td>0.010441</td>\n",
       "      <td>0.001201</td>\n",
       "    </tr>\n",
       "  </tbody>\n",
       "</table>\n",
       "<p>367 rows × 7 columns</p>\n",
       "</div>"
      ],
      "text/plain": [
       "     id\\ttoxic\\tsevere_toxic\\tobscene\\tthreat\\tinsult\\tidentity_hate  \\\n",
       "0                                                  NaN                 \n",
       "1                                                  NaN                 \n",
       "2                                                  NaN                 \n",
       "3                                                  NaN                 \n",
       "4                                                  NaN                 \n",
       "..                                                 ...                 \n",
       "362                                                NaN                 \n",
       "363                                                NaN                 \n",
       "364                                                NaN                 \n",
       "365                                                NaN                 \n",
       "366                                                NaN                 \n",
       "\n",
       "        toxic  severe_toxic   obscene    threat    insult  identity_hate  \n",
       "0    0.062564       0.00493  0.020448  0.002038  0.010441       0.001201  \n",
       "1    0.062564       0.00493  0.020448  0.002038  0.010441       0.001201  \n",
       "2    0.062564       0.00493  0.020448  0.002038  0.010441       0.001201  \n",
       "3    0.062564       0.00493  0.020448  0.002038  0.010441       0.001201  \n",
       "4    0.062564       0.00493  0.020448  0.002038  0.010441       0.001201  \n",
       "..        ...           ...       ...       ...       ...            ...  \n",
       "362  0.062564       0.00493  0.020448  0.002038  0.010441       0.001201  \n",
       "363  0.062564       0.00493  0.020448  0.002038  0.010441       0.001201  \n",
       "364  0.062564       0.00493  0.020448  0.002038  0.010441       0.001201  \n",
       "365  0.062564       0.00493  0.020448  0.002038  0.010441       0.001201  \n",
       "366  0.062564       0.00493  0.020448  0.002038  0.010441       0.001201  \n",
       "\n",
       "[367 rows x 7 columns]"
      ]
     },
     "execution_count": 47,
     "metadata": {},
     "output_type": "execute_result"
    }
   ],
   "source": [
    "result_fin = pd.read_csv('./data/submission.csv')\n",
    "result_fin"
   ]
  },
  {
   "cell_type": "code",
   "execution_count": 48,
   "metadata": {},
   "outputs": [
    {
     "data": {
      "text/plain": [
       "0      0.062564\n",
       "1      0.062564\n",
       "2      0.062564\n",
       "3      0.062564\n",
       "4      0.062564\n",
       "         ...   \n",
       "362    0.062564\n",
       "363    0.062564\n",
       "364    0.062564\n",
       "365    0.062564\n",
       "366    0.062564\n",
       "Length: 367, dtype: float64"
      ]
     },
     "execution_count": 48,
     "metadata": {},
     "output_type": "execute_result"
    }
   ],
   "source": [
    "result_val = result_fin.max(axis=1)\n",
    "result_val"
   ]
  },
  {
   "cell_type": "code",
   "execution_count": 50,
   "metadata": {},
   "outputs": [
    {
     "data": {
      "text/plain": [
       "pandas.core.series.Series"
      ]
     },
     "execution_count": 50,
     "metadata": {},
     "output_type": "execute_result"
    }
   ],
   "source": [
    "type(result_val)"
   ]
  },
  {
   "cell_type": "code",
   "execution_count": 52,
   "metadata": {},
   "outputs": [
    {
     "data": {
      "text/plain": [
       "0.0625643427268036"
      ]
     },
     "execution_count": 52,
     "metadata": {},
     "output_type": "execute_result"
    }
   ],
   "source": [
    "result_val.mean()"
   ]
  },
  {
   "cell_type": "code",
   "execution_count": 49,
   "metadata": {},
   "outputs": [
    {
     "data": {
      "text/plain": [
       "Index(['toxic', 'toxic', 'toxic', 'toxic', 'toxic', 'toxic', 'toxic', 'toxic',\n",
       "       'toxic', 'toxic',\n",
       "       ...\n",
       "       'toxic', 'toxic', 'toxic', 'toxic', 'toxic', 'toxic', 'toxic', 'toxic',\n",
       "       'toxic', 'toxic'],\n",
       "      dtype='object', length=367)"
      ]
     },
     "execution_count": 49,
     "metadata": {},
     "output_type": "execute_result"
    }
   ],
   "source": [
    "result_val.index = result_fin.idxmax(axis=1)\n",
    "result_val.index"
   ]
  },
  {
   "cell_type": "code",
   "execution_count": 51,
   "metadata": {},
   "outputs": [
    {
     "data": {
      "text/plain": [
       "pandas.core.indexes.base.Index"
      ]
     },
     "execution_count": 51,
     "metadata": {},
     "output_type": "execute_result"
    }
   ],
   "source": [
    "type(result_val.index)"
   ]
  },
  {
   "cell_type": "code",
   "execution_count": 55,
   "metadata": {},
   "outputs": [
    {
     "data": {
      "text/plain": [
       "['toxic',\n",
       " 'toxic',\n",
       " 'toxic',\n",
       " 'toxic',\n",
       " 'toxic',\n",
       " 'toxic',\n",
       " 'toxic',\n",
       " 'toxic',\n",
       " 'toxic',\n",
       " 'toxic',\n",
       " 'toxic',\n",
       " 'toxic',\n",
       " 'toxic',\n",
       " 'toxic',\n",
       " 'toxic',\n",
       " 'toxic',\n",
       " 'toxic',\n",
       " 'toxic',\n",
       " 'toxic',\n",
       " 'toxic',\n",
       " 'toxic',\n",
       " 'toxic',\n",
       " 'toxic',\n",
       " 'toxic',\n",
       " 'toxic',\n",
       " 'toxic',\n",
       " 'toxic',\n",
       " 'toxic',\n",
       " 'toxic',\n",
       " 'toxic',\n",
       " 'toxic',\n",
       " 'toxic',\n",
       " 'toxic',\n",
       " 'toxic',\n",
       " 'toxic',\n",
       " 'toxic',\n",
       " 'toxic',\n",
       " 'toxic',\n",
       " 'toxic',\n",
       " 'toxic',\n",
       " 'toxic',\n",
       " 'toxic',\n",
       " 'toxic',\n",
       " 'toxic',\n",
       " 'toxic',\n",
       " 'toxic',\n",
       " 'toxic',\n",
       " 'toxic',\n",
       " 'toxic',\n",
       " 'toxic',\n",
       " 'toxic',\n",
       " 'toxic',\n",
       " 'toxic',\n",
       " 'toxic',\n",
       " 'toxic',\n",
       " 'toxic',\n",
       " 'toxic',\n",
       " 'toxic',\n",
       " 'toxic',\n",
       " 'toxic',\n",
       " 'toxic',\n",
       " 'toxic',\n",
       " 'toxic',\n",
       " 'toxic',\n",
       " 'toxic',\n",
       " 'toxic',\n",
       " 'toxic',\n",
       " 'toxic',\n",
       " 'toxic',\n",
       " 'toxic',\n",
       " 'toxic',\n",
       " 'toxic',\n",
       " 'toxic',\n",
       " 'toxic',\n",
       " 'toxic',\n",
       " 'toxic',\n",
       " 'toxic',\n",
       " 'toxic',\n",
       " 'toxic',\n",
       " 'toxic',\n",
       " 'toxic',\n",
       " 'toxic',\n",
       " 'toxic',\n",
       " 'toxic',\n",
       " 'toxic',\n",
       " 'toxic',\n",
       " 'toxic',\n",
       " 'toxic',\n",
       " 'toxic',\n",
       " 'toxic',\n",
       " 'toxic',\n",
       " 'toxic',\n",
       " 'toxic',\n",
       " 'toxic',\n",
       " 'toxic',\n",
       " 'toxic',\n",
       " 'toxic',\n",
       " 'toxic',\n",
       " 'toxic',\n",
       " 'toxic',\n",
       " 'toxic',\n",
       " 'toxic',\n",
       " 'toxic',\n",
       " 'toxic',\n",
       " 'toxic',\n",
       " 'toxic',\n",
       " 'toxic',\n",
       " 'toxic',\n",
       " 'toxic',\n",
       " 'toxic',\n",
       " 'toxic',\n",
       " 'toxic',\n",
       " 'toxic',\n",
       " 'toxic',\n",
       " 'toxic',\n",
       " 'toxic',\n",
       " 'toxic',\n",
       " 'toxic',\n",
       " 'toxic',\n",
       " 'toxic',\n",
       " 'toxic',\n",
       " 'toxic',\n",
       " 'toxic',\n",
       " 'toxic',\n",
       " 'toxic',\n",
       " 'toxic',\n",
       " 'toxic',\n",
       " 'toxic',\n",
       " 'toxic',\n",
       " 'toxic',\n",
       " 'toxic',\n",
       " 'toxic',\n",
       " 'toxic',\n",
       " 'toxic',\n",
       " 'toxic',\n",
       " 'toxic',\n",
       " 'toxic',\n",
       " 'toxic',\n",
       " 'toxic',\n",
       " 'toxic',\n",
       " 'toxic',\n",
       " 'toxic',\n",
       " 'toxic',\n",
       " 'toxic',\n",
       " 'toxic',\n",
       " 'toxic',\n",
       " 'toxic',\n",
       " 'toxic',\n",
       " 'toxic',\n",
       " 'toxic',\n",
       " 'toxic',\n",
       " 'toxic',\n",
       " 'toxic',\n",
       " 'toxic',\n",
       " 'toxic',\n",
       " 'toxic',\n",
       " 'toxic',\n",
       " 'toxic',\n",
       " 'toxic',\n",
       " 'toxic',\n",
       " 'toxic',\n",
       " 'toxic',\n",
       " 'toxic',\n",
       " 'toxic',\n",
       " 'toxic',\n",
       " 'toxic',\n",
       " 'toxic',\n",
       " 'toxic',\n",
       " 'toxic',\n",
       " 'toxic',\n",
       " 'toxic',\n",
       " 'toxic',\n",
       " 'toxic',\n",
       " 'toxic',\n",
       " 'toxic',\n",
       " 'toxic',\n",
       " 'toxic',\n",
       " 'toxic',\n",
       " 'toxic',\n",
       " 'toxic',\n",
       " 'toxic',\n",
       " 'toxic',\n",
       " 'toxic',\n",
       " 'toxic',\n",
       " 'toxic',\n",
       " 'toxic',\n",
       " 'toxic',\n",
       " 'toxic',\n",
       " 'toxic',\n",
       " 'toxic',\n",
       " 'toxic',\n",
       " 'toxic',\n",
       " 'toxic',\n",
       " 'toxic',\n",
       " 'toxic',\n",
       " 'toxic',\n",
       " 'toxic',\n",
       " 'toxic',\n",
       " 'toxic',\n",
       " 'toxic',\n",
       " 'toxic',\n",
       " 'toxic',\n",
       " 'toxic',\n",
       " 'toxic',\n",
       " 'toxic',\n",
       " 'toxic',\n",
       " 'toxic',\n",
       " 'toxic',\n",
       " 'toxic',\n",
       " 'toxic',\n",
       " 'toxic',\n",
       " 'toxic',\n",
       " 'toxic',\n",
       " 'toxic',\n",
       " 'toxic',\n",
       " 'toxic',\n",
       " 'toxic',\n",
       " 'toxic',\n",
       " 'toxic',\n",
       " 'toxic',\n",
       " 'toxic',\n",
       " 'toxic',\n",
       " 'toxic',\n",
       " 'toxic',\n",
       " 'toxic',\n",
       " 'toxic',\n",
       " 'toxic',\n",
       " 'toxic',\n",
       " 'toxic',\n",
       " 'toxic',\n",
       " 'toxic',\n",
       " 'toxic',\n",
       " 'toxic',\n",
       " 'toxic',\n",
       " 'toxic',\n",
       " 'toxic',\n",
       " 'toxic',\n",
       " 'toxic',\n",
       " 'toxic',\n",
       " 'toxic',\n",
       " 'toxic',\n",
       " 'toxic',\n",
       " 'toxic',\n",
       " 'toxic',\n",
       " 'toxic',\n",
       " 'toxic',\n",
       " 'toxic',\n",
       " 'toxic',\n",
       " 'toxic',\n",
       " 'toxic',\n",
       " 'toxic',\n",
       " 'toxic',\n",
       " 'toxic',\n",
       " 'toxic',\n",
       " 'toxic',\n",
       " 'toxic',\n",
       " 'toxic',\n",
       " 'toxic',\n",
       " 'toxic',\n",
       " 'toxic',\n",
       " 'toxic',\n",
       " 'toxic',\n",
       " 'toxic',\n",
       " 'toxic',\n",
       " 'toxic',\n",
       " 'toxic',\n",
       " 'toxic',\n",
       " 'toxic',\n",
       " 'toxic',\n",
       " 'toxic',\n",
       " 'toxic',\n",
       " 'toxic',\n",
       " 'toxic',\n",
       " 'toxic',\n",
       " 'toxic',\n",
       " 'toxic',\n",
       " 'toxic',\n",
       " 'toxic',\n",
       " 'toxic',\n",
       " 'toxic',\n",
       " 'toxic',\n",
       " 'toxic',\n",
       " 'toxic',\n",
       " 'toxic',\n",
       " 'toxic',\n",
       " 'toxic',\n",
       " 'toxic',\n",
       " 'toxic',\n",
       " 'toxic',\n",
       " 'toxic',\n",
       " 'toxic',\n",
       " 'toxic',\n",
       " 'toxic',\n",
       " 'toxic',\n",
       " 'toxic',\n",
       " 'toxic',\n",
       " 'toxic',\n",
       " 'toxic',\n",
       " 'toxic',\n",
       " 'toxic',\n",
       " 'toxic',\n",
       " 'toxic',\n",
       " 'toxic',\n",
       " 'toxic',\n",
       " 'toxic',\n",
       " 'toxic',\n",
       " 'toxic',\n",
       " 'toxic',\n",
       " 'toxic',\n",
       " 'toxic',\n",
       " 'toxic',\n",
       " 'toxic',\n",
       " 'toxic',\n",
       " 'toxic',\n",
       " 'toxic',\n",
       " 'toxic',\n",
       " 'toxic',\n",
       " 'toxic',\n",
       " 'toxic',\n",
       " 'toxic',\n",
       " 'toxic',\n",
       " 'toxic',\n",
       " 'toxic',\n",
       " 'toxic',\n",
       " 'toxic',\n",
       " 'toxic',\n",
       " 'toxic',\n",
       " 'toxic',\n",
       " 'toxic',\n",
       " 'toxic',\n",
       " 'toxic',\n",
       " 'toxic',\n",
       " 'toxic',\n",
       " 'toxic',\n",
       " 'toxic',\n",
       " 'toxic',\n",
       " 'toxic',\n",
       " 'toxic',\n",
       " 'toxic',\n",
       " 'toxic',\n",
       " 'toxic',\n",
       " 'toxic',\n",
       " 'toxic',\n",
       " 'toxic',\n",
       " 'toxic',\n",
       " 'toxic',\n",
       " 'toxic',\n",
       " 'toxic',\n",
       " 'toxic',\n",
       " 'toxic',\n",
       " 'toxic',\n",
       " 'toxic',\n",
       " 'toxic',\n",
       " 'toxic',\n",
       " 'toxic',\n",
       " 'toxic',\n",
       " 'toxic',\n",
       " 'toxic',\n",
       " 'toxic',\n",
       " 'toxic',\n",
       " 'toxic',\n",
       " 'toxic',\n",
       " 'toxic',\n",
       " 'toxic',\n",
       " 'toxic',\n",
       " 'toxic',\n",
       " 'toxic']"
      ]
     },
     "execution_count": 55,
     "metadata": {},
     "output_type": "execute_result"
    }
   ],
   "source": [
    "# 추출한 값을 리스트로 만들기\n",
    "final_result = list(result_val.index)\n",
    "final_result"
   ]
  },
  {
   "cell_type": "code",
   "execution_count": 61,
   "metadata": {},
   "outputs": [],
   "source": [
    "from collections import Counter\n",
    "def most_common(input_list):\n",
    "    \"\"\"가장 많이 나오는 값을 추출한다.\"\"\"\n",
    "    assert isinstance(input_list, list), 'Must be a list type'\n",
    "    if len(input_list) == 0: return None\n",
    "    return Counter(input_list).most_common(n=1)[0][0]"
   ]
  },
  {
   "cell_type": "code",
   "execution_count": 62,
   "metadata": {},
   "outputs": [
    {
     "data": {
      "text/plain": [
       "'toxic'"
      ]
     },
     "execution_count": 62,
     "metadata": {},
     "output_type": "execute_result"
    }
   ],
   "source": [
    "# 최빈값 구하기\n",
    "most_common(final_result)"
   ]
  },
  {
   "cell_type": "markdown",
   "metadata": {},
   "source": [
    "## 실행 기능을 하나의 함수로 만들기"
   ]
  },
  {
   "cell_type": "code",
   "execution_count": 67,
   "metadata": {},
   "outputs": [],
   "source": [
    "from collections import Counter\n",
    "def most_common(input_list):\n",
    "    \"\"\"가장 많이 나오는 값을 추출한다.\"\"\"\n",
    "    assert isinstance(input_list, list), 'Must be a list type'\n",
    "    if len(input_list) == 0: return None\n",
    "    return Counter(input_list).most_common(n=1)[0][0]"
   ]
  },
  {
   "cell_type": "code",
   "execution_count": 68,
   "metadata": {},
   "outputs": [],
   "source": [
    "from keras.models import load_model\n",
    "model = load_model('toxic_model.h5')"
   ]
  },
  {
   "cell_type": "code",
   "execution_count": 69,
   "metadata": {},
   "outputs": [],
   "source": [
    "def check_comment(input_sent):\n",
    "    # Tokenize comment_text\n",
    "    tokenizer = Tokenizer(num_words=max_features) # max_features 만큼의 단어를 Tokenize하기 위한 틀 생성.\n",
    "                                                  # Create a frame to Tokenize words as many as max_features.\n",
    "\n",
    "    list_tokenized_test = tokenizer.texts_to_sequences(input_sentence) # Tokenize(Transform word into number)\n",
    "\n",
    "    X_te_ = pad_sequences(list_tokenized_test, maxlen=maxlen) # 모든 단어는 각자 다른 길이를 갖고 있으므로 작은 길이의 문장에 \n",
    "                                                             # padding을 해줌으로서 모든 문장의 길이를 maxlen로 맞춰줌\n",
    "                                                             # All comment_texts are different in length, \n",
    "                                                             # so 0 is filled as much as maxlen in small sentences\n",
    "                \n",
    "    y_test_ = model.predict([X_te_], batch_size=1024, verbose=1) # model에 test data를 넣고 예측\n",
    "    \n",
    "    result_of_submission = pd.read_csv('./data/result_of_submission.csv') # 예측값을 저장할 csv파일\n",
    "    result_of_submission[list_classes] = y_test_ # csv에 저장할 값을 설정\n",
    "    result_val = result_of_submission.max(axis=1)\n",
    "    result_val.mean()\n",
    "    result_val.index = result_fin.idxmax(axis=1)\n",
    "    final_result = list(result_val.index)\n",
    "    # 최빈값 구하기\n",
    "    result__ = most_common(final_result)\n",
    "    return result__"
   ]
  },
  {
   "cell_type": "code",
   "execution_count": 70,
   "metadata": {},
   "outputs": [],
   "source": [
    "input_sentence_test = \"Yo bitch Ja Rule is more succesful then you'll ever be whats up with you and hating you sad mofuckas...i should bitch slap ur pethedic white faces and get you to kiss my ass you guys sicken me. Ja rule is about pride in da music man. dont diss that shit on him. and nothin is wrong bein like tupac he was a brother too...fuckin white boys get things right next time.,\"\n"
   ]
  },
  {
   "cell_type": "code",
   "execution_count": 71,
   "metadata": {},
   "outputs": [
    {
     "name": "stdout",
     "output_type": "stream",
     "text": [
      "1/1 [==============================] - 1s 575ms/step\n"
     ]
    },
    {
     "data": {
      "text/plain": [
       "'toxic'"
      ]
     },
     "execution_count": 71,
     "metadata": {},
     "output_type": "execute_result"
    }
   ],
   "source": [
    "re_finfin = check_comment(input_sentence_test)\n",
    "re_finfin"
   ]
  },
  {
   "cell_type": "code",
   "execution_count": null,
   "metadata": {},
   "outputs": [],
   "source": []
  }
 ],
 "metadata": {
  "kernelspec": {
   "display_name": "Python 3",
   "language": "python",
   "name": "python3"
  },
  "language_info": {
   "codemirror_mode": {
    "name": "ipython",
    "version": 3
   },
   "file_extension": ".py",
   "mimetype": "text/x-python",
   "name": "python",
   "nbconvert_exporter": "python",
   "pygments_lexer": "ipython3",
   "version": "3.7.10"
  }
 },
 "nbformat": 4,
 "nbformat_minor": 2
}
